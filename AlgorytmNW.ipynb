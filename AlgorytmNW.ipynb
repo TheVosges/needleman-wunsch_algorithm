{
 "cells": [
  {
   "cell_type": "markdown",
   "id": "c98de32d",
   "metadata": {},
   "source": [
    "# Ilościowe dopasowanie Par Sekwencji  - algorytm N-W\n",
    "\n",
    "## Wymagania programu \n",
    "\n",
    "    1. Możliwość wczytania sekwencji:\n",
    "        • ręczne,\n",
    "        • z pliku w formacie FASTA\n",
    "    2. Możliwość wyboru punktacji za zgodność i niezgodność liter oraz kar za przerwy\n",
    "    3. Wygenerowanie JEDNEJ ścieżki optymalnego dopasowania\n",
    "        • wyświetlenie razem z parametrami programu, punktacją, długością dopasowania procentem pozycji identycznych i przerw\n",
    "        • zapisem wyniku do pliku w formacie tekstowym\n",
    "    4. Graficzne wyświetlenie tablicy punktacji wraz z optymalną ścieżką."
   ]
  },
  {
   "cell_type": "markdown",
   "id": "d355ecf2",
   "metadata": {},
   "source": [
    "### Możliwość wczytania sekwencji:\n",
    "        • ręczne"
   ]
  },
  {
   "cell_type": "code",
   "execution_count": 4,
   "id": "68c73d12",
   "metadata": {},
   "outputs": [],
   "source": [
    "# Convering FASTA file sequence to String\n",
    "# Args: filename (String) - path to FASTA file\n",
    "# Returns: bialko (String) - protein sequence\n",
    "# Computational complexity: O(n)\n",
    "def readProtein(fileName):\n",
    "    file = open(fileName, 'r')\n",
    "    i = 0\n",
    "    bialko = ''\n",
    "    for each in file:\n",
    "        if i !=0: \n",
    "            bialko += each\n",
    "        i+=1\n",
    "    return bialko.replace(\"\\n\" , \"\")\n",
    "   "
   ]
  },
  {
   "cell_type": "markdown",
   "id": "f86734fb",
   "metadata": {},
   "source": [
    "        • z pliku w formacie FASTA"
   ]
  },
  {
   "cell_type": "code",
   "execution_count": 5,
   "id": "239966c3",
   "metadata": {},
   "outputs": [],
   "source": [
    "# Check if provided String contains only DNA sequence\n",
    "# Args: dna (String) - dna sequence\n",
    "# Returns: boolean - if provided dna sequence is dna\n",
    "# Computational complexity: O(n^2)\n",
    "def ifDna(dna):\n",
    "    return not len(tuple(filter(lambda letter: letter.upper() not in ('A','G','C','T'), dna)))"
   ]
  },
  {
   "cell_type": "code",
   "execution_count": 6,
   "id": "08d401bd",
   "metadata": {},
   "outputs": [],
   "source": [
    "# Manualy input dna sequence an check if data is correct\n",
    "# Args: \n",
    "# Returns: data (string) - dna sequence\n",
    "def inputDna():\n",
    "    data = input(\"Please provide a squence of DNA: \") \n",
    "    if ifDna(data):\n",
    "        return data.upper()\n",
    "    else:\n",
    "        print (\"Wrong dna provided!\")"
   ]
  },
  {
   "cell_type": "markdown",
   "id": "5284644b",
   "metadata": {},
   "source": [
    "### Możliwość wyboru punktacji za zgodność i niezgodność liter oraz kar za przerwy"
   ]
  },
  {
   "cell_type": "code",
   "execution_count": 59,
   "id": "d1ad9540",
   "metadata": {},
   "outputs": [],
   "source": [
    "# Setting esensial parameters to NW algorithm \n",
    "# Args: \n",
    "# Returns: gap (float) - gap punishment\n",
    "#          match (float) - match reward\n",
    "#          mismatch (float) - mismatch punishment\n",
    "# Computational complexity: O(3)\n",
    "def setParams():\n",
    "    i = 0\n",
    "    while True:\n",
    "        try:\n",
    "            if (i==3):\n",
    "                break\n",
    "            gap = float(input('Provide gap: '))\n",
    "            match = float(input('Provide mathch: '))\n",
    "            mismatch = float(input('Provide mismatch: '))\n",
    "            break\n",
    "        except:\n",
    "            i+=1\n",
    "            print(\"That's not a number\")\n",
    "    return gap, match, mismatch"
   ]
  },
  {
   "cell_type": "markdown",
   "id": "bd1d3842",
   "metadata": {},
   "source": [
    "### Wygenerowanie jednej ścieżki optymalnego dopasowania\n",
    "        • wyświetlenie razem z parametrami programu, punktacją, długością dopasowania procentem pozycji identycznych i przerw"
   ]
  },
  {
   "cell_type": "code",
   "execution_count": 53,
   "id": "4b3b95a0",
   "metadata": {},
   "outputs": [],
   "source": [
    "import seaborn as sns\n",
    "import matplotlib.pyplot as plt\n",
    "from seaborn import heatmap\n",
    "\n",
    "# Function that draws dotPlot for numpy array\n",
    "# Args: array (numpy.Array) - array of data done by makeDotPlot\n",
    "#       protein1 (String) - labels top axis\n",
    "#       protein2 (String) - labels bottom axis\n",
    "# Computational complexity: O(n^2)\n",
    "def makeHeatmap(array, protein1 = None, protein2 = None, gap = None, match = None, mismatch = None):\n",
    "#     return heatmap(array, cmap='YlGnBu', xticklabels=protein1, yticklabels=protein2)\n",
    "    sns.set()\n",
    "    fig = plt.figure(figsize=(len(protein2)/5, len(protein1)/5))\n",
    "    ax = sns.heatmap(array, cmap='YlGnBu', xticklabels=protein2, yticklabels=protein1)\n",
    "    plt.yticks(rotation=0)\n",
    "    if gap is not None and match is not None and mismatch is not None:\n",
    "        plt.xlabel('Gap: ' + str(gap)\n",
    "                   + ' ' + 'Match: ' + str(match) + ' ' + 'Mismatch: ' + str(mismatch), fontsize = 11)\n",
    "    ax.xaxis.tick_top()\n",
    "    return fig"
   ]
  },
  {
   "cell_type": "markdown",
   "id": "7ccfe337",
   "metadata": {},
   "source": [
    "        • zapisem wyniku do pliku w formacie tekstowym"
   ]
  },
  {
   "cell_type": "code",
   "execution_count": 43,
   "id": "7f8c4409",
   "metadata": {},
   "outputs": [],
   "source": [
    "# Function that allows user to save figure to desired filename\n",
    "# Args: filename (String) - name of .png file\n",
    "#       fig (plt.figure() obj) - figure object\n",
    "# \n",
    "def saveDotPlotToFile(filename, fig):\n",
    "    fig.savefig(filename + \".png\")"
   ]
  },
  {
   "cell_type": "code",
   "execution_count": 32,
   "id": "e4964601",
   "metadata": {},
   "outputs": [],
   "source": [
    "# Function that allows user to save figure to desired filename\n",
    "# Args: ouputTable (Array) - array of two outputs of strings with spaces from algorytmNW()\n",
    "# \n",
    "def saveStringsAligment(outputTable):\n",
    "    with open('ouput.txt', 'w') as f:\n",
    "        for i in outputTable:\n",
    "            f.write(i + \"\\n\")"
   ]
  },
  {
   "cell_type": "markdown",
   "id": "1db53320",
   "metadata": {},
   "source": [
    "### Algorytm N-W"
   ]
  },
  {
   "cell_type": "code",
   "execution_count": 11,
   "id": "5542c316",
   "metadata": {},
   "outputs": [],
   "source": [
    "# Function that ainserts \"-\" in desired place\n",
    "# Args: string (String) - string to put \"-\" in\n",
    "#       integer (int) - place where to put it\n",
    "# \n",
    "def insert_space(string, integer):\n",
    "    return string[0:integer] + '-' + string[integer:]"
   ]
  },
  {
   "cell_type": "code",
   "execution_count": 24,
   "id": "4af9a69b",
   "metadata": {},
   "outputs": [],
   "source": [
    "# Function that calculates best macth for two strings by using N-W algorythm \n",
    "# Args: input1 (String) - first string\n",
    "#       input2 (String) - second string\n",
    "#       gap (int) - punishment for gap\n",
    "#       match (int) - reward for match\n",
    "#       mismatch (int) - punishment for mismatch\n",
    "# Computational complexity: O(2(n^2 + 2n)\n",
    "import numpy as np\n",
    "def algorytmNW(input1, input2, gap, match, mismatch):\n",
    "    size = [len(input1)+1,len(input2)+1]\n",
    "    arrayNW = np.zeros(size)\n",
    "    #ALIGMENT LEGEND\n",
    "    #0 - DIAGONAL\n",
    "    #1 - LEFT\n",
    "    #2 - UP\n",
    "    aligment = arrayNW.copy()\n",
    "    \n",
    "    #setup for first row\n",
    "    for i in range(1,size[0]):\n",
    "        arrayNW[i,0] = arrayNW[i-1,0] + gap\n",
    "        aligment[i,0] = 2\n",
    "    for i in range(1,size[1]): \n",
    "        arrayNW[0,i] = arrayNW[0,i-1] + gap\n",
    "        aligment[0,i] = 1\n",
    "        \n",
    "    for i in range(1,size[0]):\n",
    "        for j in range(1,size[1]):\n",
    "            #check all possibilities\n",
    "            L = arrayNW[i,j-1] + gap\n",
    "            U = arrayNW[i-1,j] + gap\n",
    "            if (input2[j-1] == input1[i-1]):\n",
    "                D = arrayNW[i-1,j-1] + match\n",
    "            else:\n",
    "                D = arrayNW[i-1,j-1] + mismatch\n",
    "            arrayNW[i,j] = max(L,U,D)\n",
    "            if max(L,U,D) == D:\n",
    "                step = 0\n",
    "            elif max(L,U,D) == L:\n",
    "                step = 1\n",
    "            else: \n",
    "                step = 2\n",
    "            aligment[i,j] = step\n",
    "            \n",
    "    i = aligment.shape[0]-1\n",
    "    j = aligment.shape[1]-1\n",
    "    spacesInInput1 = []\n",
    "    spacesInInput2 = []\n",
    "    lenOutput1 = len(input1)-1\n",
    "    lenOutput2 = len(input2)-1\n",
    "    while i>=0 and j>=0:\n",
    "        if aligment[i,j] == 0:\n",
    "            lenOutput1 -= 1\n",
    "            lenOutput2 -= 1\n",
    "            aligment[i,j]=3 #most optimal path \n",
    "            i-=1\n",
    "            j-=1\n",
    "        elif aligment[i,j] == 1:\n",
    "            spacesInInput1.append(lenOutput1)\n",
    "            lenOutput2 -=1\n",
    "            aligment[i,j]=3\n",
    "            j-=1\n",
    "        else:\n",
    "            spacesInInput2.append(lenOutput2)\n",
    "            lenOutput1 -=1\n",
    "            aligment[i,j]=3\n",
    "            i-=1\n",
    "    \n",
    "    output = []\n",
    "    output1 = input1\n",
    "    output2 = input2\n",
    "    \n",
    "    for i in spacesInInput1:\n",
    "        output1 = insert_space(output1,i+1)\n",
    "    for i in spacesInInput2:\n",
    "        output2 = insert_space(output2,i+1)\n",
    "        \n",
    "    output.append(output1)\n",
    "    output.append(output2)    \n",
    "#     print(output1)\n",
    "#     print(output2)\n",
    "    return arrayNW, aligment, output\n",
    "    "
   ]
  },
  {
   "cell_type": "markdown",
   "id": "b305a9b5",
   "metadata": {},
   "source": [
    "## Sprawozdanie \n",
    "\n",
    "    1. Schemat algorytmu dopasowania\n",
    "    2. Oszacowanie złożoności obliczeniowej \n",
    "    3. Instrukcja dla użytkownika\n",
    "    \n",
    "### Schemat blokowy algorytmu dopasowania NW"
   ]
  },
  {
   "cell_type": "markdown",
   "id": "bc218d28",
   "metadata": {},
   "source": [
    "   \n",
    "![](https://i.imgur.com/Rc75cTO.png)\n",
    "    "
   ]
  },
  {
   "cell_type": "markdown",
   "id": "84b0b16a",
   "metadata": {},
   "source": [
    "### Oszacowanie złożoności obliczeniowej \n",
    "\n",
    "Złożoność obliczeniowa została oszacowana przy każdej funkcji powyżej w sekcji wymaganie programu. "
   ]
  },
  {
   "cell_type": "markdown",
   "id": "ad382ecf",
   "metadata": {},
   "source": [
    "### Instrukcja dla użytkownika "
   ]
  },
  {
   "cell_type": "code",
   "execution_count": 10,
   "id": "e0160ada",
   "metadata": {},
   "outputs": [
    {
     "name": "stdout",
     "output_type": "stream",
     "text": [
      "Please provide a squence of DNA: GCATCGATCACACA\n",
      "Please provide a squence of DNA: GTACGATCAGCAGCGACGAC\n"
     ]
    }
   ],
   "source": [
    "#WPROWADZENIE DANYCH\n",
    "dna1 = inputDna()\n",
    "dna2 = inputDna()"
   ]
  },
  {
   "cell_type": "code",
   "execution_count": 61,
   "id": "e012b812",
   "metadata": {},
   "outputs": [
    {
     "name": "stdout",
     "output_type": "stream",
     "text": [
      "Provide gap: -1\n",
      "Provide mathch: 2\n",
      "Provide mismatch: -2\n"
     ]
    }
   ],
   "source": [
    "#USTAWIENIE PARAMETRÓW\n",
    "gap, match, mismatch = setParams()"
   ]
  },
  {
   "cell_type": "code",
   "execution_count": 28,
   "id": "7c50ac78",
   "metadata": {},
   "outputs": [],
   "source": [
    "#WYKNONANIE ALGORYTMU I ZEBRANIE DANYCH\n",
    "array, aligment, output = algorytmNW(dna1, dna2, gap, match, mismatch)"
   ]
  },
  {
   "cell_type": "code",
   "execution_count": 54,
   "id": "42b390f3",
   "metadata": {},
   "outputs": [
    {
     "data": {
      "image/png": "[encoded data removed]",
      "text/plain": [
       "<Figure size 302.4x216 with 2 Axes>"
      ]
     },
     "metadata": {},
     "output_type": "display_data"
    }
   ],
   "source": [
    "#WYŚWIETLENIE DANYCH\n",
    "heatmap = makeHeatmap(aligment, \" \" + dna1,\" \" + dna2, gap, match, mismatch)"
   ]
  },
  {
   "cell_type": "code",
   "execution_count": 55,
   "id": "172f1cf5",
   "metadata": {},
   "outputs": [],
   "source": [
    "#ZAPIS DANYCH\n",
    "saveStringsAligment(output)\n",
    "saveDotPlotToFile(\"mapa\", heatmap)"
   ]
  }
 ],
 "metadata": {
  "kernelspec": {
   "display_name": "Python 3 (ipykernel)",
   "language": "python",
   "name": "python3"
  },
  "language_info": {
   "codemirror_mode": {
    "name": "ipython",
    "version": 3
   },
   "file_extension": ".py",
   "mimetype": "text/x-python",
   "name": "python",
   "nbconvert_exporter": "python",
   "pygments_lexer": "ipython3",
   "version": "3.8.10"
  }
 },
 "nbformat": 4,
 "nbformat_minor": 5
}
